{
  "nbformat": 4,
  "nbformat_minor": 0,
  "metadata": {
    "colab": {
      "provenance": []
    },
    "kernelspec": {
      "name": "python3",
      "display_name": "Python 3"
    },
    "language_info": {
      "name": "python"
    }
  },
  "cells": [
    {
      "cell_type": "code",
      "source": [
        "class Human:\n",
        "    def __init__(self, name, age):\n",
        "        self.name = name  # 名前属性\n",
        "        self.age = age    # 年齢属性\n",
        "\n",
        "    def printinfo(self):\n",
        "        print(f\"名前: {self.name}, 年齢: {self.age}\")  # 名前と年齢を出力\n",
        "\n",
        "# Humanクラスのインスタンスを作成\n",
        "person = Human(\"太郎\", 25)\n",
        "\n",
        "# printinfoメソッドを使って情報を出力\n",
        "person.printinfo()"
      ],
      "metadata": {
        "id": "gWZ6IKPDXo6s"
      },
      "execution_count": 7,
      "outputs": []
    }
  ]
}