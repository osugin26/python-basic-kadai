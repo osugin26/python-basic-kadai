{
  "nbformat": 4,
  "nbformat_minor": 0,
  "metadata": {
    "colab": {
      "provenance": []
    },
    "kernelspec": {
      "name": "python3",
      "display_name": "Python 3"
    },
    "language_info": {
      "name": "python"
    }
  },
  "cells": [
    {
      "cell_type": "markdown",
      "source": [],
      "metadata": {
        "id": "YMec4wSBn2Se"
      }
    },
    {
      "cell_type": "code",
      "execution_count": 2,
      "metadata": {
        "colab": {
          "base_uri": "https://localhost:8080/"
        },
        "id": "oYEtwjekjy_Q",
        "outputId": "7fcbc05f-0d0f-4289-a977-504cf198f392"
      },
      "outputs": [
        {
          "output_type": "stream",
          "name": "stdout",
          "text": [
            "75.0㎠\n"
          ]
        }
      ],
      "source": [
        "# 台形の上辺と下辺と高さを定義\n",
        "hen_ue = 10\n",
        "hen_shita = 20\n",
        "takasa= 5\n",
        "\n",
        "# 台形の面積\n",
        "menseki=(hen_ue+hen_shita)*takasa/2\n",
        "\n",
        "print(str(menseki)+\"㎠\")"
      ]
    }
  ]
}