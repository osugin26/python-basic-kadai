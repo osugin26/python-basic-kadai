{
  "nbformat": 4,
  "nbformat_minor": 0,
  "metadata": {
    "colab": {
      "provenance": []
    },
    "kernelspec": {
      "name": "python3",
      "display_name": "Python 3"
    },
    "language_info": {
      "name": "python"
    }
  },
  "cells": [
    {
      "cell_type": "markdown",
      "source": [],
      "metadata": {
        "id": "FpOgXVn9BaWA"
      }
    },
    {
      "cell_type": "code",
      "source": [
        "import random\n",
        "var = random.randint(3,60)\n",
        "\n",
        "print(\"変数varの値→\"+str(var))\n",
        "\n",
        "if var % 3 == 0 and var % 5 == 0:\n",
        "    print(\"FizzBuzz\")\n",
        "elif var % 3 == 0:\n",
        "    print(\"Fizz\")\n",
        "elif var % 5 == 0:\n",
        "    print(\"Buzz\")\n",
        "else:\n",
        "    print(var)"
      ],
      "metadata": {
        "colab": {
          "base_uri": "https://localhost:8080/"
        },
        "id": "V2lSzDjunIgC",
        "outputId": "9181144d-5044-4ba5-a0a0-0000474d0380"
      },
      "execution_count": 74,
      "outputs": [
        {
          "output_type": "stream",
          "name": "stdout",
          "text": [
            "変数varの値→60\n",
            "FizzBuzz\n"
          ]
        }
      ]
    }
  ]
}