{
  "nbformat": 4,
  "nbformat_minor": 0,
  "metadata": {
    "colab": {
      "provenance": []
    },
    "kernelspec": {
      "name": "python3",
      "display_name": "Python 3"
    },
    "language_info": {
      "name": "python"
    }
  },
  "cells": [
    {
      "cell_type": "code",
      "source": [
        "def calculate_total_with_tax(price, tax_rate=0.10):\n",
        "    total = price * (1 + tax_rate)  # 消費税を加えた合計を計算\n",
        "    return total  # 計算結果を戻り値として返す\n",
        "price = 1000\n",
        "total_price = calculate_total_with_tax(price)\n",
        "print(total_price)  # 出力: 1100.0\n"
      ],
      "metadata": {
        "colab": {
          "base_uri": "https://localhost:8080/"
        },
        "collapsed": true,
        "id": "g9c41UqKmdQ9",
        "outputId": "bb90f36e-ce0e-46cd-848d-7b491e1a3453"
      },
      "execution_count": 16,
      "outputs": [
        {
          "output_type": "stream",
          "name": "stdout",
          "text": [
            "1100.0\n"
          ]
        }
      ]
    }
  ]
}