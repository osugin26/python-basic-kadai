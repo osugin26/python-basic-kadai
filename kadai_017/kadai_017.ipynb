{
  "nbformat": 4,
  "nbformat_minor": 0,
  "metadata": {
    "colab": {
      "provenance": []
    },
    "kernelspec": {
      "name": "python3",
      "display_name": "Python 3"
    },
    "language_info": {
      "name": "python"
    }
  },
  "cells": [
    {
      "cell_type": "code",
      "execution_count": 1,
      "metadata": {
        "colab": {
          "base_uri": "https://localhost:8080/"
        },
        "id": "LAHl4hoqLg8l",
        "outputId": "2f9f1dd2-c40f-47b6-d0a6-366f735d9b5f"
      },
      "outputs": [
        {
          "output_type": "stream",
          "name": "stdout",
          "text": [
            "太郎 は大人です。\n",
            "花子 は大人ではありません。\n",
            "次郎 は大人です。\n",
            "美咲 は大人ではありません。\n"
          ]
        }
      ],
      "source": [
        "class Human:\n",
        "    def __init__(self, name, age):\n",
        "        self.name = name  # 名前属性\n",
        "        self.age = age    # 年齢属性\n",
        "\n",
        "    def check_adult(self):\n",
        "        if self.age >= 20:\n",
        "            print(f\"{self.name} は大人です。\")\n",
        "        else:\n",
        "            print(f\"{self.name} は大人ではありません。\")\n",
        "\n",
        "\n",
        "# Humanクラスのインスタンスを複数生成し、リストに追加\n",
        "people = [\n",
        "    Human(\"太郎\", 25),\n",
        "    Human(\"花子\", 19),\n",
        "    Human(\"次郎\", 30),\n",
        "    Human(\"美咲\", 17)\n",
        "]\n",
        "\n",
        "# リストの各要素に対してcheck_adultメソッドを呼び出し\n",
        "for person in people:\n",
        "    person.check_adult()"
      ]
    }
  ]
}