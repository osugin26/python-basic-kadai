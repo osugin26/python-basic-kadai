{
  "nbformat": 4,
  "nbformat_minor": 0,
  "metadata": {
    "colab": {
      "provenance": []
    },
    "kernelspec": {
      "name": "python3",
      "display_name": "Python 3"
    },
    "language_info": {
      "name": "python"
    }
  },
  "cells": [
    {
      "cell_type": "code",
      "source": [
        "array = [\"水\",\"金\",\"地\",\"火\",\"木\",\"土\",\"天\",\"海\",\"冥\"]\n",
        "for index, value in enumerate(array):\n",
        "    print(value)\n",
        "\n",
        "index = 0  # インデックスを初期化\n",
        "while index < len(array):  # 配列の長さまでループを続ける\n",
        "    print(array[index])  # 現在のインデックスの要素を出力\n",
        "    index += 1  # インデックスを1増やして次の要素に進む"
      ],
      "metadata": {
        "id": "SIwPdA-w3J0T"
      },
      "execution_count": null,
      "outputs": []
    },
    {
      "cell_type": "code",
      "source": [
        "array = [\"水\", \"金\", \"地\", \"火\", \"木\", \"土\", \"天\", \"海\", \"冥\"]\n",
        "for element in array:\n",
        "    print(element)\n",
        "\n",
        "while array:  # 配列が空でない間ループを続ける\n",
        "    print(array.pop(0))  # 先頭の要素を出力して削除"
      ],
      "metadata": {
        "collapsed": true,
        "id": "gvxo1GHJ4A8_"
      },
      "execution_count": null,
      "outputs": []
    }
  ]
}